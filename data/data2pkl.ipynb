{
 "cells": [
  {
   "cell_type": "code",
   "execution_count": 1,
   "metadata": {},
   "outputs": [],
   "source": [
    "import os\n",
    "import cv2\n",
    "import numpy as np\n",
    "import pickle as pkl\n",
    "import json"
   ]
  },
  {
   "cell_type": "code",
   "execution_count": 33,
   "metadata": {},
   "outputs": [],
   "source": [
    "data = {}\n",
    "pothole_category = [1, 2, 6, 7, 8, 9]"
   ]
  },
  {
   "cell_type": "code",
   "execution_count": 34,
   "metadata": {},
   "outputs": [],
   "source": [
    "def data2pkl(file_name):\n",
    "    wo_jpg = file_name.split('.')[0]\n",
    "    w_json = wo_jpg + ('.json')\n",
    "    direction = file_name.split('_')[2] #direction\n",
    "    print(direction)\n",
    "    \n",
    "    if direction == 'F':\n",
    "        image2matrix = cv2.imread(file_name, cv2.IMREAD_COLOR)\n",
    "    else:\n",
    "        image2matrix = cv2.imread(file_name, cv2.IMREAD_GRAYSCALE)\n",
    "    image2matrix = image2matrix / 255.0\n",
    "    image2matrix = image2matrix - np.mean(image2matrix)\n",
    "    image2matrix_np = np.array(image2matrix)\n",
    "    \n",
    "    with open(w_json, 'r', encoding='utf-8') as json_file:\n",
    "        json_data = json.load(json_file)\n",
    "\n",
    "    category_ids = set()\n",
    "    for annotation in json_data['annotations']:\n",
    "        category_ids.add(annotation['category_id'])\n",
    "    \n",
    "    print(category_ids)\n",
    "    pothole_sign = False\n",
    "    for category_id in category_ids:\n",
    "        if category_id in pothole_category:\n",
    "            data[file_name] = {\n",
    "                'matrix' : image2matrix_np,\n",
    "                'direction' : direction,\n",
    "                'pothole' : 1\n",
    "            }\n",
    "            pothole_sign = True\n",
    "            continue\n",
    "    if not pothole_sign:\n",
    "        data[file_name] = {\n",
    "            'matrix' : image2matrix,\n",
    "            'direction' : direction,\n",
    "            'pothole' : 0\n",
    "        }"
   ]
  },
  {
   "cell_type": "code",
   "execution_count": 35,
   "metadata": {},
   "outputs": [
    {
     "name": "stdout",
     "output_type": "stream",
     "text": [
      "F\n",
      "{16, 17}\n"
     ]
    }
   ],
   "source": [
    "file_name = 'G_A_F_01_0822082218210.jpg'\n",
    "data2pkl(file_name=file_name)"
   ]
  },
  {
   "cell_type": "code",
   "execution_count": 39,
   "metadata": {},
   "outputs": [
    {
     "data": {
      "text/plain": [
       "'c:\\\\Users\\\\hwnam\\\\Desktop\\\\tmp\\\\Suwon_pothole\\\\data\\\\image_data'"
      ]
     },
     "execution_count": 39,
     "metadata": {},
     "output_type": "execute_result"
    }
   ],
   "source": [
    "os.getcwd()"
   ]
  },
  {
   "cell_type": "code",
   "execution_count": 31,
   "metadata": {},
   "outputs": [
    {
     "data": {
      "text/plain": [
       "{'G_A_F_01_0822082218210.jpg': {'matrix': array([[[ 0.07315442,  0.09276226,  0.09668383],\n",
       "          [ 0.07707599,  0.09668383,  0.1006054 ],\n",
       "          [ 0.06138971,  0.08491913,  0.08099756],\n",
       "          ...,\n",
       "          [ 0.00648775, -0.00135538, -0.00135538],\n",
       "          [ 0.01433089,  0.00648775,  0.00648775],\n",
       "          [ 0.03001716,  0.02217403,  0.02217403]],\n",
       "  \n",
       "         [[ 0.06923285,  0.08884069,  0.09276226],\n",
       "          [ 0.08099756,  0.1006054 ,  0.10452697],\n",
       "          [ 0.06923285,  0.09276226,  0.08884069],\n",
       "          ...,\n",
       "          [ 0.01040932,  0.00256618,  0.00256618],\n",
       "          [ 0.01825246,  0.01040932,  0.01040932],\n",
       "          [ 0.03001716,  0.02217403,  0.02217403]],\n",
       "  \n",
       "         [[ 0.06923285,  0.08884069,  0.09276226],\n",
       "          [ 0.08099756,  0.1006054 ,  0.10452697],\n",
       "          [ 0.08491913,  0.10452697,  0.1006054 ],\n",
       "          ...,\n",
       "          [ 0.01825246,  0.01040932,  0.01040932],\n",
       "          [ 0.0260956 ,  0.01825246,  0.01825246],\n",
       "          [ 0.0260956 ,  0.01825246,  0.01825246]],\n",
       "  \n",
       "         ...,\n",
       "  \n",
       "         [[-0.27978676, -0.27978676, -0.27978676],\n",
       "          [-0.27978676, -0.27978676, -0.27978676],\n",
       "          [-0.27978676, -0.27978676, -0.27978676],\n",
       "          ...,\n",
       "          [-0.27978676, -0.27978676, -0.27978676],\n",
       "          [-0.27978676, -0.27978676, -0.27978676],\n",
       "          [-0.27978676, -0.27978676, -0.27978676]],\n",
       "  \n",
       "         [[-0.27978676, -0.27978676, -0.27978676],\n",
       "          [-0.27978676, -0.27978676, -0.27978676],\n",
       "          [-0.27978676, -0.27978676, -0.27978676],\n",
       "          ...,\n",
       "          [-0.27978676, -0.27978676, -0.27978676],\n",
       "          [-0.27978676, -0.27978676, -0.27978676],\n",
       "          [-0.27978676, -0.27978676, -0.27978676]],\n",
       "  \n",
       "         [[-0.27978676, -0.27978676, -0.27978676],\n",
       "          [-0.27978676, -0.27978676, -0.27978676],\n",
       "          [-0.27978676, -0.27978676, -0.27978676],\n",
       "          ...,\n",
       "          [-0.27978676, -0.27978676, -0.27978676],\n",
       "          [-0.27978676, -0.27978676, -0.27978676],\n",
       "          [-0.27978676, -0.27978676, -0.27978676]]]),\n",
       "  'direction': 'F',\n",
       "  'pothole': 0}}"
      ]
     },
     "execution_count": 31,
     "metadata": {},
     "output_type": "execute_result"
    }
   ],
   "source": [
    "data"
   ]
  },
  {
   "cell_type": "code",
   "execution_count": 32,
   "metadata": {},
   "outputs": [
    {
     "name": "stdout",
     "output_type": "stream",
     "text": [
      "[[[ 0.07315442  0.09276226  0.09668383]\n",
      "  [ 0.07707599  0.09668383  0.1006054 ]\n",
      "  [ 0.06138971  0.08491913  0.08099756]\n",
      "  ...\n",
      "  [ 0.00648775 -0.00135538 -0.00135538]\n",
      "  [ 0.01433089  0.00648775  0.00648775]\n",
      "  [ 0.03001716  0.02217403  0.02217403]]\n",
      "\n",
      " [[ 0.06923285  0.08884069  0.09276226]\n",
      "  [ 0.08099756  0.1006054   0.10452697]\n",
      "  [ 0.06923285  0.09276226  0.08884069]\n",
      "  ...\n",
      "  [ 0.01040932  0.00256618  0.00256618]\n",
      "  [ 0.01825246  0.01040932  0.01040932]\n",
      "  [ 0.03001716  0.02217403  0.02217403]]\n",
      "\n",
      " [[ 0.06923285  0.08884069  0.09276226]\n",
      "  [ 0.08099756  0.1006054   0.10452697]\n",
      "  [ 0.08491913  0.10452697  0.1006054 ]\n",
      "  ...\n",
      "  [ 0.01825246  0.01040932  0.01040932]\n",
      "  [ 0.0260956   0.01825246  0.01825246]\n",
      "  [ 0.0260956   0.01825246  0.01825246]]\n",
      "\n",
      " ...\n",
      "\n",
      " [[-0.27978676 -0.27978676 -0.27978676]\n",
      "  [-0.27978676 -0.27978676 -0.27978676]\n",
      "  [-0.27978676 -0.27978676 -0.27978676]\n",
      "  ...\n",
      "  [-0.27978676 -0.27978676 -0.27978676]\n",
      "  [-0.27978676 -0.27978676 -0.27978676]\n",
      "  [-0.27978676 -0.27978676 -0.27978676]]\n",
      "\n",
      " [[-0.27978676 -0.27978676 -0.27978676]\n",
      "  [-0.27978676 -0.27978676 -0.27978676]\n",
      "  [-0.27978676 -0.27978676 -0.27978676]\n",
      "  ...\n",
      "  [-0.27978676 -0.27978676 -0.27978676]\n",
      "  [-0.27978676 -0.27978676 -0.27978676]\n",
      "  [-0.27978676 -0.27978676 -0.27978676]]\n",
      "\n",
      " [[-0.27978676 -0.27978676 -0.27978676]\n",
      "  [-0.27978676 -0.27978676 -0.27978676]\n",
      "  [-0.27978676 -0.27978676 -0.27978676]\n",
      "  ...\n",
      "  [-0.27978676 -0.27978676 -0.27978676]\n",
      "  [-0.27978676 -0.27978676 -0.27978676]\n",
      "  [-0.27978676 -0.27978676 -0.27978676]]]\n"
     ]
    }
   ],
   "source": [
    "print(data['G_A_F_01_0822082218210.jpg']['matrix'])"
   ]
  },
  {
   "cell_type": "code",
   "execution_count": 38,
   "metadata": {},
   "outputs": [],
   "source": [
    "import shutil\n",
    "\n",
    "os.chdir('image_data')\n",
    "for image in os.listdir('.'):\n",
    "    shutil.move(image, '../unzip/' + image)"
   ]
  },
  {
   "cell_type": "code",
   "execution_count": 40,
   "metadata": {},
   "outputs": [],
   "source": [
    "os.chdir('../label_data')\n",
    "for label in os.listdir('.'):\n",
    "    shutil.move(label, '../unzip/' + label)"
   ]
  },
  {
   "cell_type": "code",
   "execution_count": 42,
   "metadata": {},
   "outputs": [
    {
     "data": {
      "text/plain": [
       "419285"
      ]
     },
     "execution_count": 42,
     "metadata": {},
     "output_type": "execute_result"
    }
   ],
   "source": [
    "len(os.listdir('../unzip'))"
   ]
  },
  {
   "cell_type": "code",
   "execution_count": null,
   "metadata": {},
   "outputs": [],
   "source": []
  }
 ],
 "metadata": {
  "kernelspec": {
   "display_name": "base",
   "language": "python",
   "name": "python3"
  },
  "language_info": {
   "codemirror_mode": {
    "name": "ipython",
    "version": 3
   },
   "file_extension": ".py",
   "mimetype": "text/x-python",
   "name": "python",
   "nbconvert_exporter": "python",
   "pygments_lexer": "ipython3",
   "version": "3.12.4"
  }
 },
 "nbformat": 4,
 "nbformat_minor": 2
}
