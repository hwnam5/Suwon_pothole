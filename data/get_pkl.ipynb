{
  "cells": [
    {
      "cell_type": "markdown",
      "metadata": {
        "id": "view-in-github",
        "colab_type": "text"
      },
      "source": [
        "<a href=\"https://colab.research.google.com/github/hwnam5/Suwon_pothole/blob/main/data/get_pkl.ipynb\" target=\"_parent\"><img src=\"https://colab.research.google.com/assets/colab-badge.svg\" alt=\"Open In Colab\"/></a>"
      ]
    },
    {
      "cell_type": "code",
      "execution_count": 1,
      "metadata": {
        "id": "xFWyjluusq8J"
      },
      "outputs": [],
      "source": [
        "from google.colab import drive"
      ]
    },
    {
      "cell_type": "code",
      "execution_count": 2,
      "metadata": {
        "id": "MF58Bus2sz6B"
      },
      "outputs": [],
      "source": [
        "import os\n",
        "import pickle\n",
        "import pandas as pd\n",
        "import numpy as np"
      ]
    },
    {
      "cell_type": "code",
      "execution_count": 3,
      "metadata": {
        "colab": {
          "base_uri": "https://localhost:8080/"
        },
        "id": "njj8NAels170",
        "outputId": "a75738e9-94c0-4998-8e01-bf3383f8dc1f"
      },
      "outputs": [
        {
          "output_type": "stream",
          "name": "stdout",
          "text": [
            "Drive already mounted at /content/drive/; to attempt to forcibly remount, call drive.mount(\"/content/drive/\", force_remount=True).\n"
          ]
        }
      ],
      "source": [
        "drive.mount('/content/drive/')"
      ]
    },
    {
      "cell_type": "code",
      "execution_count": 6,
      "metadata": {
        "colab": {
          "base_uri": "https://localhost:8080/"
        },
        "id": "RAfiBjIwti_P",
        "outputId": "790a4abf-897f-4e86-bbcf-9fdf195b08e0"
      },
      "outputs": [
        {
          "output_type": "stream",
          "name": "stdout",
          "text": [
            "/content/drive/MyDrive/data\n"
          ]
        }
      ],
      "source": [
        "cd /content/drive/MyDrive/data/"
      ]
    },
    {
      "cell_type": "code",
      "execution_count": 7,
      "metadata": {
        "id": "vujiU28EuG5E",
        "colab": {
          "base_uri": "https://localhost:8080/"
        },
        "outputId": "b05f2813-0757-490c-ad8c-984194e4ad97"
      },
      "outputs": [
        {
          "output_type": "stream",
          "name": "stdout",
          "text": [
            "resize_224.pkl\n"
          ]
        }
      ],
      "source": [
        "ls"
      ]
    },
    {
      "cell_type": "code",
      "source": [
        "# pothole : 3000, not pothole : 3000\n",
        "with open('resize_224.pkl', 'rb') as f:\n",
        "     resize_224 = pickle.load(f)\n",
        "     print('resize224 data : ', len(resize_224))"
      ],
      "metadata": {
        "colab": {
          "base_uri": "https://localhost:8080/"
        },
        "id": "qud9UhqtuiKK",
        "outputId": "0573d825-9519-4ecd-af05-31458c0409df"
      },
      "execution_count": 8,
      "outputs": [
        {
          "output_type": "stream",
          "name": "stdout",
          "text": [
            "resize224 data :  5490\n"
          ]
        }
      ]
    },
    {
      "cell_type": "code",
      "source": [
        "resize_224['G_A_F_01_0822082218210']"
      ],
      "metadata": {
        "colab": {
          "base_uri": "https://localhost:8080/"
        },
        "id": "XkVeA1S7u-SS",
        "outputId": "07e2faae-e98d-4e8e-d169-e7ea65c993df"
      },
      "execution_count": 12,
      "outputs": [
        {
          "output_type": "execute_result",
          "data": {
            "text/plain": [
              "{'matrix': array([[[ 0.07707989,  0.09276617,  0.09668774],\n",
              "         [ 0.08492303,  0.06139362,  0.06923676],\n",
              "         [ 0.21041323,  0.17511911,  0.1515897 ],\n",
              "         ...,\n",
              "         [ 0.0260995 ,  0.00649166,  0.01041323],\n",
              "         [ 0.0143348 ,  0.00649166,  0.00257009],\n",
              "         [ 0.02217793,  0.0143348 ,  0.0143348 ]],\n",
              " \n",
              "        [[ 0.08100146,  0.09276617,  0.10060931],\n",
              "         [ 0.09668774,  0.08100146,  0.07707989],\n",
              "         [ 0.22217793,  0.17904068,  0.15551127],\n",
              "         ...,\n",
              "         [ 0.0260995 , -0.00135148, -0.00135148],\n",
              "         [ 0.01825637,  0.00649166,  0.00649166],\n",
              "         [ 0.0260995 ,  0.01825637,  0.01825637]],\n",
              " \n",
              "        [[ 0.09668774,  0.09668774,  0.10845244],\n",
              "         [ 0.12021715,  0.11237401,  0.10453087],\n",
              "         [ 0.25355048,  0.20257009,  0.18296225],\n",
              "         ...,\n",
              "         [ 0.02217793, -0.00135148, -0.00135148],\n",
              "         [ 0.03002107,  0.02217793,  0.02217793],\n",
              "         [ 0.03002107,  0.01825637,  0.02217793]],\n",
              " \n",
              "        ...,\n",
              " \n",
              "        [[-0.27978285, -0.27978285, -0.27978285],\n",
              "         [-0.27978285, -0.27978285, -0.27978285],\n",
              "         [-0.27978285, -0.27978285, -0.27978285],\n",
              "         ...,\n",
              "         [-0.27978285, -0.27978285, -0.27978285],\n",
              "         [-0.27978285, -0.27978285, -0.27978285],\n",
              "         [-0.27978285, -0.27978285, -0.27978285]],\n",
              " \n",
              "        [[-0.27978285, -0.27978285, -0.27978285],\n",
              "         [-0.27978285, -0.27978285, -0.27978285],\n",
              "         [-0.27978285, -0.27978285, -0.27978285],\n",
              "         ...,\n",
              "         [-0.27978285, -0.27978285, -0.27978285],\n",
              "         [-0.27978285, -0.27978285, -0.27978285],\n",
              "         [-0.27978285, -0.27978285, -0.27978285]],\n",
              " \n",
              "        [[-0.27978285, -0.27978285, -0.27978285],\n",
              "         [-0.27978285, -0.27978285, -0.27978285],\n",
              "         [-0.27978285, -0.27978285, -0.27978285],\n",
              "         ...,\n",
              "         [-0.27978285, -0.27978285, -0.27978285],\n",
              "         [-0.27978285, -0.27978285, -0.27978285],\n",
              "         [-0.27978285, -0.27978285, -0.27978285]]]),\n",
              " 'direction': 'F',\n",
              " 'pothole': 0}"
            ]
          },
          "metadata": {},
          "execution_count": 12
        }
      ]
    },
    {
      "cell_type": "code",
      "source": [
        "pothole = 0\n",
        "not_pothole = 0\n",
        "for file_name, data in resize_224.items():\n",
        "    is_pothole = data.get('pothole')\n",
        "    if is_pothole == 1:\n",
        "        pothole += 1\n",
        "    else:\n",
        "        not_pothole += 1"
      ],
      "metadata": {
        "id": "fSWwZDXAyb75"
      },
      "execution_count": 14,
      "outputs": []
    },
    {
      "cell_type": "code",
      "source": [
        "print('pothole : ', pothole)\n",
        "print('not pothole : ', not_pothole)"
      ],
      "metadata": {
        "colab": {
          "base_uri": "https://localhost:8080/"
        },
        "id": "HVOOe8vBzmwH",
        "outputId": "a1ff36b1-f692-4ba3-8308-5f26e8b760f4"
      },
      "execution_count": 15,
      "outputs": [
        {
          "output_type": "stream",
          "name": "stdout",
          "text": [
            "pothole :  2490\n",
            "not pothole :  3000\n"
          ]
        }
      ]
    }
  ],
  "metadata": {
    "colab": {
      "provenance": [],
      "authorship_tag": "ABX9TyNgLCMT8YYYmXGgweIGXbI4",
      "include_colab_link": true
    },
    "kernelspec": {
      "display_name": "Python 3",
      "name": "python3"
    },
    "language_info": {
      "name": "python"
    }
  },
  "nbformat": 4,
  "nbformat_minor": 0
}